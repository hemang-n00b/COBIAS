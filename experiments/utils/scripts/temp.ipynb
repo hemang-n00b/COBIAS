{
 "cells": [
  {
   "cell_type": "code",
   "execution_count": 2,
   "metadata": {},
   "outputs": [],
   "source": [
    "import json\n",
    "output = [\n",
    "    \"../data/similarity/gemma-1.1-2b-it.json\", \n",
    "    \"../data/similarity/gemma-1.1-7b-it.json\", \n",
    "    \"../data/similarity/gpt-3.5-turbo-instruct-0914.json\", \n",
    "    \"../data/similarity/Meta-Llama-3-8B-Instruct.json\", \n",
    "    \"../data/similarity/Phi-3-mini-4k-instruct.json\", \n",
    "    \"../data/similarity/Phi-3-mini-128k-instruct.json\", \n",
    "    \"../data/similarity/Mistral-7B-Instruct-v0.2.json\",\n",
    "    \"../data/similarity/Mistral-7B-Instruct-v0.3.json\"\n",
    "]\n",
    "\n",
    "output1 = [\n",
    "    \"../data/avg_similarity/gemma-1.1-2b-it.json\", \n",
    "    \"../data/avg_similarity/gemma-1.1-7b-it.json\", \n",
    "    \"../data/avg_similarity/gpt-3.5-turbo-instruct-0914.json\", \n",
    "    \"../data/avg_similarity/Meta-Llama-3-8B-Instruct.json\", \n",
    "    \"../data/avg_similarity/Phi-3-mini-4k-instruct.json\", \n",
    "    \"../data/avg_similarity/Phi-3-mini-128k-instruct.json\", \n",
    "    \"../data/avg_similarity/Mistral-7B-Instruct-v0.2.json\",\n",
    "    \"../data/avg_similarity/Mistral-7B-Instruct-v0.3.json\",\n",
    "]\n",
    "\n",
    "\n",
    "for _,t in enumerate(output1):\n",
    "    with open(output[_], 'r') as file:\n",
    "        data = json.load(file)\n",
    "    averages = {}\n",
    "    for key, value in data.items():\n",
    "        avg = sum(value) / len(value)\n",
    "        averages[key] = avg\n",
    "\n",
    "    with open(output1[_], 'w') as file:\n",
    "        json.dump(averages, file, indent=4)"
   ]
  }
 ],
 "metadata": {
  "kernelspec": {
   "display_name": "Python 3",
   "language": "python",
   "name": "python3"
  },
  "language_info": {
   "codemirror_mode": {
    "name": "ipython",
    "version": 3
   },
   "file_extension": ".py",
   "mimetype": "text/x-python",
   "name": "python",
   "nbconvert_exporter": "python",
   "pygments_lexer": "ipython3",
   "version": "3.10.12"
  }
 },
 "nbformat": 4,
 "nbformat_minor": 2
}
